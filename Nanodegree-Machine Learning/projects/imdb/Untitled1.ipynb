{
 "cells": [
  {
   "cell_type": "code",
   "execution_count": 187,
   "metadata": {
    "collapsed": false,
    "scrolled": false
   },
   "outputs": [
    {
     "name": "stderr",
     "output_type": "stream",
     "text": [
      "C:\\Users\\james\\Anaconda3\\lib\\site-packages\\sklearn\\utils\\validation.py:515: DataConversionWarning: A column-vector y was passed when a 1d array was expected. Please change the shape of y to (n_samples, ), for example using ravel().\n",
      "  y = column_or_1d(y, warn=True)\n",
      "C:\\Users\\james\\Anaconda3\\lib\\site-packages\\sklearn\\linear_model\\sag.py:267: ConvergenceWarning: The max_iter was reached which means the coef_ did not converge\n",
      "  \"the coef_ did not converge\", ConvergenceWarning)\n"
     ]
    },
    {
     "data": {
      "text/plain": [
       "0.5714285714285714"
      ]
     },
     "execution_count": 187,
     "metadata": {},
     "output_type": "execute_result"
    }
   ],
   "source": [
    "import numpy as np\n",
    "from sklearn.linear_model import LogisticRegression\n",
    "X = np.array([[200, 100], [320, 90], [150, 60], [170, 20], [169, 75], [190, 65], [212, 132]])\n",
    "y = np.array([[1], [1], [0], [0], [0], [0], [1]])\n",
    "\n",
    "clf = LogisticRegression(solver='sag')\n",
    "clf.fit(X,y)\n",
    "clf.score(X,y)"
   ]
  },
  {
   "cell_type": "code",
   "execution_count": 179,
   "metadata": {
    "collapsed": false
   },
   "outputs": [
    {
     "data": {
      "text/plain": [
       "(7, 2)"
      ]
     },
     "execution_count": 179,
     "metadata": {},
     "output_type": "execute_result"
    }
   ],
   "source": [
    "import keras\n",
    "from keras.models import Sequential\n",
    "from keras.utils.np_utils import to_categorical\n",
    "from keras.layers import Dense, Dropout, Activation\n",
    "X.shape"
   ]
  },
  {
   "cell_type": "code",
   "execution_count": 183,
   "metadata": {
    "collapsed": false,
    "scrolled": true
   },
   "outputs": [
    {
     "name": "stdout",
     "output_type": "stream",
     "text": [
      "_________________________________________________________________\n",
      "Layer (type)                 Output Shape              Param #   \n",
      "=================================================================\n",
      "dense_96 (Dense)             (None, 1)                 3         \n",
      "=================================================================\n",
      "Total params: 3\n",
      "Trainable params: 3\n",
      "Non-trainable params: 0\n",
      "_________________________________________________________________\n"
     ]
    }
   ],
   "source": [
    "model = Sequential()\n",
    "model.add(Dense(units=1, activation='sigmoid', input_dim=2))\n",
    "\n",
    "\n",
    "model.summary()"
   ]
  },
  {
   "cell_type": "code",
   "execution_count": 184,
   "metadata": {
    "collapsed": false,
    "scrolled": true
   },
   "outputs": [
    {
     "name": "stdout",
     "output_type": "stream",
     "text": [
      "Epoch 1/20\n",
      "7/7 [==============================] - 2s - loss: 6.9078 - acc: 0.5714\n",
      "Epoch 2/20\n",
      "7/7 [==============================] - 0s - loss: 6.9078 - acc: 0.5714\n",
      "Epoch 3/20\n",
      "7/7 [==============================] - 0s - loss: 6.9078 - acc: 0.5714\n",
      "Epoch 4/20\n",
      "7/7 [==============================] - 0s - loss: 6.9078 - acc: 0.5714\n",
      "Epoch 5/20\n",
      "7/7 [==============================] - 0s - loss: 6.9078 - acc: 0.5714\n",
      "Epoch 6/20\n",
      "7/7 [==============================] - 0s - loss: 6.9078 - acc: 0.5714\n",
      "Epoch 7/20\n",
      "7/7 [==============================] - 0s - loss: 6.9078 - acc: 0.5714\n",
      "Epoch 8/20\n",
      "7/7 [==============================] - 0s - loss: 6.9078 - acc: 0.5714\n",
      "Epoch 9/20\n",
      "7/7 [==============================] - 0s - loss: 6.9078 - acc: 0.5714\n",
      "Epoch 10/20\n",
      "7/7 [==============================] - 0s - loss: 6.9078 - acc: 0.5714\n",
      "Epoch 11/20\n",
      "7/7 [==============================] - 0s - loss: 6.9078 - acc: 0.5714\n",
      "Epoch 12/20\n",
      "7/7 [==============================] - 0s - loss: 6.9078 - acc: 0.5714\n",
      "Epoch 13/20\n",
      "7/7 [==============================] - 0s - loss: 6.9078 - acc: 0.5714\n",
      "Epoch 14/20\n",
      "7/7 [==============================] - 0s - loss: 6.9078 - acc: 0.5714\n",
      "Epoch 15/20\n",
      "7/7 [==============================] - 0s - loss: 6.9078 - acc: 0.5714\n",
      "Epoch 16/20\n",
      "7/7 [==============================] - 0s - loss: 6.9078 - acc: 0.5714\n",
      "Epoch 17/20\n",
      "7/7 [==============================] - 0s - loss: 6.9078 - acc: 0.5714\n",
      "Epoch 18/20\n",
      "7/7 [==============================] - 0s - loss: 6.9078 - acc: 0.5714\n",
      "Epoch 19/20\n",
      "7/7 [==============================] - 0s - loss: 6.9078 - acc: 0.5714\n",
      "Epoch 20/20\n",
      "7/7 [==============================] - 0s - loss: 6.9078 - acc: 0.5714\n"
     ]
    },
    {
     "data": {
      "text/plain": [
       "<keras.callbacks.History at 0x1ffd73df9b0>"
      ]
     },
     "execution_count": 184,
     "metadata": {},
     "output_type": "execute_result"
    }
   ],
   "source": [
    "model.compile(loss=\"binary_crossentropy\", optimizer=\"adam\", metrics = ['accuracy'])\n",
    "model.fit(X,y, epochs=20, batch_size=X.shape[0])\n"
   ]
  },
  {
   "cell_type": "code",
   "execution_count": 186,
   "metadata": {
    "collapsed": false
   },
   "outputs": [
    {
     "name": "stdout",
     "output_type": "stream",
     "text": [
      "7/7 [==============================] - 0s\n"
     ]
    },
    {
     "data": {
      "text/plain": [
       "[6.9077553749084473, 0.57142859697341919]"
      ]
     },
     "execution_count": 186,
     "metadata": {},
     "output_type": "execute_result"
    }
   ],
   "source": [
    "model.evaluate(X,y)"
   ]
  },
  {
   "cell_type": "code",
   "execution_count": null,
   "metadata": {
    "collapsed": true
   },
   "outputs": [],
   "source": []
  }
 ],
 "metadata": {
  "kernelspec": {
   "display_name": "Python [default]",
   "language": "python",
   "name": "python3"
  },
  "language_info": {
   "codemirror_mode": {
    "name": "ipython",
    "version": 3
   },
   "file_extension": ".py",
   "mimetype": "text/x-python",
   "name": "python",
   "nbconvert_exporter": "python",
   "pygments_lexer": "ipython3",
   "version": "3.5.2"
  }
 },
 "nbformat": 4,
 "nbformat_minor": 1
}
