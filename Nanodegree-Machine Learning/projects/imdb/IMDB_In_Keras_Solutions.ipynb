{
 "cells": [
  {
   "cell_type": "markdown",
   "metadata": {
    "deletable": true,
    "editable": true
   },
   "source": [
    "# Analyzing IMDB Data in Keras - Solution"
   ]
  },
  {
   "cell_type": "code",
   "execution_count": 2,
   "metadata": {
    "collapsed": false,
    "deletable": true,
    "editable": true
   },
   "outputs": [
    {
     "name": "stderr",
     "output_type": "stream",
     "text": [
      "Using TensorFlow backend.\n"
     ]
    }
   ],
   "source": [
    "# Imports\n",
    "import numpy as np\n",
    "import keras\n",
    "from keras.datasets import imdb\n",
    "from keras.models import Sequential\n",
    "from keras.layers import Dense, Dropout, Activation\n",
    "from keras.preprocessing.text import Tokenizer\n",
    "import matplotlib.pyplot as plt\n",
    "%matplotlib inline\n",
    "\n",
    "np.random.seed(42)"
   ]
  },
  {
   "cell_type": "markdown",
   "metadata": {
    "deletable": true,
    "editable": true
   },
   "source": [
    "## 1. Loading the data\n",
    "This dataset comes preloaded with Keras, so one simple command will get us training and testing data. There is a parameter for how many words we want to look at. We've set it at 1000, but feel free to experiment."
   ]
  },
  {
   "cell_type": "code",
   "execution_count": 19,
   "metadata": {
    "collapsed": false,
    "deletable": true,
    "editable": true
   },
   "outputs": [
    {
     "name": "stdout",
     "output_type": "stream",
     "text": [
      "(25000,)\n",
      "(25000,)\n",
      "[1 0 0 ..., 0 1 0]\n"
     ]
    }
   ],
   "source": [
    "# Loading the data (it's preloaded in Keras)\n",
    "(x_train, y_train), (x_test, y_test) = imdb.load_data(num_words=1000)\n",
    "\n",
    "print(x_train.shape)\n",
    "print(x_test.shape)\n",
    "print(y_train)"
   ]
  },
  {
   "cell_type": "markdown",
   "metadata": {
    "deletable": true,
    "editable": true
   },
   "source": [
    "## 2. Examining the data\n",
    "Notice that the data has been already pre-processed, where all the words have numbers, and the reviews come in as a vector with the words that the review contains. For example, if the word 'the' is the first one in our dictionary, and a review contains the word 'the', then there is a 1 in the corresponding vector.\n",
    "\n",
    "The output comes as a vector of 1's and 0's, where 1 is a positive sentiment for the review, and 0 is negative."
   ]
  },
  {
   "cell_type": "code",
   "execution_count": 4,
   "metadata": {
    "collapsed": false,
    "deletable": true,
    "editable": true
   },
   "outputs": [
    {
     "name": "stdout",
     "output_type": "stream",
     "text": [
      "[1, 14, 22, 16, 43, 530, 973, 2, 2, 65, 458, 2, 66, 2, 4, 173, 36, 256, 5, 25, 100, 43, 838, 112, 50, 670, 2, 9, 35, 480, 284, 5, 150, 4, 172, 112, 167, 2, 336, 385, 39, 4, 172, 2, 2, 17, 546, 38, 13, 447, 4, 192, 50, 16, 6, 147, 2, 19, 14, 22, 4, 2, 2, 469, 4, 22, 71, 87, 12, 16, 43, 530, 38, 76, 15, 13, 2, 4, 22, 17, 515, 17, 12, 16, 626, 18, 2, 5, 62, 386, 12, 8, 316, 8, 106, 5, 4, 2, 2, 16, 480, 66, 2, 33, 4, 130, 12, 16, 38, 619, 5, 25, 124, 51, 36, 135, 48, 25, 2, 33, 6, 22, 12, 215, 28, 77, 52, 5, 14, 407, 16, 82, 2, 8, 4, 107, 117, 2, 15, 256, 4, 2, 7, 2, 5, 723, 36, 71, 43, 530, 476, 26, 400, 317, 46, 7, 4, 2, 2, 13, 104, 88, 4, 381, 15, 297, 98, 32, 2, 56, 26, 141, 6, 194, 2, 18, 4, 226, 22, 21, 134, 476, 26, 480, 5, 144, 30, 2, 18, 51, 36, 28, 224, 92, 25, 104, 4, 226, 65, 16, 38, 2, 88, 12, 16, 283, 5, 16, 2, 113, 103, 32, 15, 16, 2, 19, 178, 32]\n",
      "1\n"
     ]
    }
   ],
   "source": [
    "print(x_train[0])\n",
    "print(y_train[0])"
   ]
  },
  {
   "cell_type": "markdown",
   "metadata": {
    "deletable": true,
    "editable": true
   },
   "source": [
    "## 3. One-hot encoding the output\n",
    "Here, we'll turn the input vectors into (0,1)-vectors. For example, if the pre-processed vector contains the number 14, then in the processed vector, the 14th entry will be 1."
   ]
  },
  {
   "cell_type": "code",
   "execution_count": 20,
   "metadata": {
    "collapsed": false,
    "deletable": true,
    "editable": true
   },
   "outputs": [
    {
     "name": "stdout",
     "output_type": "stream",
     "text": [
      "(25000, 1000)\n",
      "(25000, 1000)\n"
     ]
    }
   ],
   "source": [
    "# Turning the output into vector mode, each of length 1000\n",
    "tokenizer = Tokenizer(num_words=1000)\n",
    "x_train = tokenizer.sequences_to_matrix(x_train, mode='binary')\n",
    "x_test = tokenizer.sequences_to_matrix(x_test, mode='binary')\n",
    "print(x_train.shape)\n",
    "print(x_test.shape)"
   ]
  },
  {
   "cell_type": "markdown",
   "metadata": {
    "deletable": true,
    "editable": true
   },
   "source": [
    "And we'll one-hot encode the output."
   ]
  },
  {
   "cell_type": "code",
   "execution_count": 17,
   "metadata": {
    "collapsed": false,
    "deletable": true,
    "editable": true
   },
   "outputs": [
    {
     "name": "stdout",
     "output_type": "stream",
     "text": [
      "(50000, 2)\n",
      "(50000, 2)\n",
      "[[ 1.  0.]\n",
      " [ 0.  1.]\n",
      " [ 0.  1.]\n",
      " ..., \n",
      " [ 0.  1.]\n",
      " [ 0.  1.]\n",
      " [ 1.  0.]]\n"
     ]
    }
   ],
   "source": [
    "# One-hot encoding the output\n",
    "num_classes = 2\n",
    "y_train = keras.utils.to_categorical(y_train, num_classes)\n",
    "y_test = keras.utils.to_categorical(y_test, num_classes)\n",
    "print(y_train.shape)\n",
    "print(y_test.shape)\n",
    "print (y_train)"
   ]
  },
  {
   "cell_type": "markdown",
   "metadata": {
    "deletable": true,
    "editable": true
   },
   "source": [
    "## 4. Building the  model architecture\n",
    "Build a model here using sequential. Feel free to experiment with different layers and sizes! Also, experiment adding dropout to reduce overfitting."
   ]
  },
  {
   "cell_type": "code",
   "execution_count": 46,
   "metadata": {
    "collapsed": false,
    "deletable": true,
    "editable": true
   },
   "outputs": [
    {
     "name": "stdout",
     "output_type": "stream",
     "text": [
      "_________________________________________________________________\n",
      "Layer (type)                 Output Shape              Param #   \n",
      "=================================================================\n",
      "dense_16 (Dense)             (None, 1)                 1001      \n",
      "=================================================================\n",
      "Total params: 1,001\n",
      "Trainable params: 1,001\n",
      "Non-trainable params: 0\n",
      "_________________________________________________________________\n"
     ]
    }
   ],
   "source": [
    "# Building the model architecture with one layer of length 100\n",
    "from keras.regularizers import l2\n",
    "\n",
    "model = Sequential()\n",
    "model.add(Dense(1, activation='sigmoid', kernel_regularizer=l2(0.), input_dim=x_train.shape[1]))\n",
    "model.summary()\n",
    "\n",
    "# Compiling the model using categorical_crossentropy loss, and rmsprop optimizer.\n",
    "model.compile(loss='binary_crossentropy',\n",
    "              optimizer='adam',\n",
    "              metrics=['accuracy'])"
   ]
  },
  {
   "cell_type": "markdown",
   "metadata": {
    "deletable": true,
    "editable": true
   },
   "source": [
    "## 5. Training the model\n",
    "Run the model here. Experiment with different batch_size, and number of epochs!"
   ]
  },
  {
   "cell_type": "code",
   "execution_count": 47,
   "metadata": {
    "collapsed": false,
    "deletable": true,
    "editable": true
   },
   "outputs": [
    {
     "name": "stdout",
     "output_type": "stream",
     "text": [
      "Train on 25000 samples, validate on 25000 samples\n",
      "Epoch 1/100\n",
      "0s - loss: 0.7220 - acc: 0.5088 - val_loss: 0.7169 - val_acc: 0.5008\n",
      "Epoch 2/100\n",
      "0s - loss: 0.7128 - acc: 0.5121 - val_loss: 0.7095 - val_acc: 0.5073\n",
      "Epoch 3/100\n",
      "0s - loss: 0.7054 - acc: 0.5186 - val_loss: 0.7037 - val_acc: 0.5147\n",
      "Epoch 4/100\n",
      "0s - loss: 0.6997 - acc: 0.5252 - val_loss: 0.6991 - val_acc: 0.5222\n",
      "Epoch 5/100\n",
      "0s - loss: 0.6952 - acc: 0.5358 - val_loss: 0.6954 - val_acc: 0.5332\n",
      "Epoch 6/100\n",
      "0s - loss: 0.6915 - acc: 0.5426 - val_loss: 0.6923 - val_acc: 0.5397\n",
      "Epoch 7/100\n",
      "0s - loss: 0.6884 - acc: 0.5479 - val_loss: 0.6893 - val_acc: 0.5467\n",
      "Epoch 8/100\n",
      "0s - loss: 0.6854 - acc: 0.5582 - val_loss: 0.6864 - val_acc: 0.5544\n",
      "Epoch 9/100\n",
      "0s - loss: 0.6823 - acc: 0.5628 - val_loss: 0.6833 - val_acc: 0.5612\n",
      "Epoch 10/100\n",
      "0s - loss: 0.6791 - acc: 0.5694 - val_loss: 0.6800 - val_acc: 0.5682\n",
      "Epoch 11/100\n",
      "0s - loss: 0.6757 - acc: 0.5780 - val_loss: 0.6766 - val_acc: 0.5755\n",
      "Epoch 12/100\n",
      "0s - loss: 0.6722 - acc: 0.5845 - val_loss: 0.6731 - val_acc: 0.5832\n",
      "Epoch 13/100\n",
      "0s - loss: 0.6685 - acc: 0.5933 - val_loss: 0.6696 - val_acc: 0.5920\n",
      "Epoch 14/100\n",
      "0s - loss: 0.6648 - acc: 0.6016 - val_loss: 0.6661 - val_acc: 0.5981\n",
      "Epoch 15/100\n",
      "0s - loss: 0.6611 - acc: 0.6088 - val_loss: 0.6627 - val_acc: 0.6068\n",
      "Epoch 16/100\n",
      "0s - loss: 0.6575 - acc: 0.6159 - val_loss: 0.6594 - val_acc: 0.6142\n",
      "Epoch 17/100\n",
      "0s - loss: 0.6541 - acc: 0.6242 - val_loss: 0.6562 - val_acc: 0.6209\n",
      "Epoch 18/100\n",
      "0s - loss: 0.6507 - acc: 0.6312 - val_loss: 0.6532 - val_acc: 0.6279\n",
      "Epoch 19/100\n",
      "0s - loss: 0.6475 - acc: 0.6380 - val_loss: 0.6502 - val_acc: 0.6332\n",
      "Epoch 20/100\n",
      "0s - loss: 0.6445 - acc: 0.6449 - val_loss: 0.6473 - val_acc: 0.6375\n",
      "Epoch 21/100\n",
      "0s - loss: 0.6414 - acc: 0.6514 - val_loss: 0.6445 - val_acc: 0.6429\n",
      "Epoch 22/100\n",
      "0s - loss: 0.6384 - acc: 0.6578 - val_loss: 0.6416 - val_acc: 0.6481\n",
      "Epoch 23/100\n",
      "0s - loss: 0.6354 - acc: 0.6634 - val_loss: 0.6387 - val_acc: 0.6544\n",
      "Epoch 24/100\n",
      "0s - loss: 0.6324 - acc: 0.6681 - val_loss: 0.6358 - val_acc: 0.6604\n",
      "Epoch 25/100\n",
      "0s - loss: 0.6294 - acc: 0.6738 - val_loss: 0.6329 - val_acc: 0.6651\n",
      "Epoch 26/100\n",
      "0s - loss: 0.6264 - acc: 0.6784 - val_loss: 0.6300 - val_acc: 0.6708\n",
      "Epoch 27/100\n",
      "0s - loss: 0.6234 - acc: 0.6825 - val_loss: 0.6271 - val_acc: 0.6762\n",
      "Epoch 28/100\n",
      "0s - loss: 0.6205 - acc: 0.6865 - val_loss: 0.6243 - val_acc: 0.6817\n",
      "Epoch 29/100\n",
      "0s - loss: 0.6176 - acc: 0.6919 - val_loss: 0.6215 - val_acc: 0.6869\n",
      "Epoch 30/100\n",
      "0s - loss: 0.6147 - acc: 0.6964 - val_loss: 0.6189 - val_acc: 0.6910\n",
      "Epoch 31/100\n",
      "0s - loss: 0.6120 - acc: 0.7006 - val_loss: 0.6162 - val_acc: 0.6950\n",
      "Epoch 32/100\n",
      "0s - loss: 0.6092 - acc: 0.7042 - val_loss: 0.6137 - val_acc: 0.6983\n",
      "Epoch 33/100\n",
      "0s - loss: 0.6066 - acc: 0.7071 - val_loss: 0.6112 - val_acc: 0.7014\n",
      "Epoch 34/100\n",
      "0s - loss: 0.6040 - acc: 0.7104 - val_loss: 0.6087 - val_acc: 0.7043\n",
      "Epoch 35/100\n",
      "0s - loss: 0.6014 - acc: 0.7142 - val_loss: 0.6062 - val_acc: 0.7084\n",
      "Epoch 36/100\n",
      "0s - loss: 0.5988 - acc: 0.7178 - val_loss: 0.6037 - val_acc: 0.7111\n",
      "Epoch 37/100\n",
      "0s - loss: 0.5963 - acc: 0.7212 - val_loss: 0.6013 - val_acc: 0.7142\n",
      "Epoch 38/100\n",
      "0s - loss: 0.5938 - acc: 0.7243 - val_loss: 0.5989 - val_acc: 0.7175\n",
      "Epoch 39/100\n",
      "0s - loss: 0.5913 - acc: 0.7280 - val_loss: 0.5965 - val_acc: 0.7207\n",
      "Epoch 40/100\n",
      "0s - loss: 0.5888 - acc: 0.7315 - val_loss: 0.5942 - val_acc: 0.7235\n",
      "Epoch 41/100\n",
      "0s - loss: 0.5864 - acc: 0.7345 - val_loss: 0.5919 - val_acc: 0.7257\n",
      "Epoch 42/100\n",
      "0s - loss: 0.5841 - acc: 0.7374 - val_loss: 0.5897 - val_acc: 0.7286\n",
      "Epoch 43/100\n",
      "0s - loss: 0.5817 - acc: 0.7404 - val_loss: 0.5874 - val_acc: 0.7310\n",
      "Epoch 44/100\n",
      "0s - loss: 0.5794 - acc: 0.7428 - val_loss: 0.5853 - val_acc: 0.7334\n",
      "Epoch 45/100\n",
      "0s - loss: 0.5772 - acc: 0.7454 - val_loss: 0.5831 - val_acc: 0.7355\n",
      "Epoch 46/100\n",
      "0s - loss: 0.5750 - acc: 0.7471 - val_loss: 0.5810 - val_acc: 0.7378\n",
      "Epoch 47/100\n",
      "0s - loss: 0.5728 - acc: 0.7492 - val_loss: 0.5789 - val_acc: 0.7400\n",
      "Epoch 48/100\n",
      "0s - loss: 0.5706 - acc: 0.7514 - val_loss: 0.5768 - val_acc: 0.7419\n",
      "Epoch 49/100\n",
      "0s - loss: 0.5685 - acc: 0.7534 - val_loss: 0.5748 - val_acc: 0.7439\n",
      "Epoch 50/100\n",
      "0s - loss: 0.5664 - acc: 0.7556 - val_loss: 0.5728 - val_acc: 0.7464\n",
      "Epoch 51/100\n",
      "0s - loss: 0.5643 - acc: 0.7579 - val_loss: 0.5708 - val_acc: 0.7475\n",
      "Epoch 52/100\n",
      "0s - loss: 0.5623 - acc: 0.7596 - val_loss: 0.5689 - val_acc: 0.7494\n",
      "Epoch 53/100\n",
      "0s - loss: 0.5602 - acc: 0.7615 - val_loss: 0.5669 - val_acc: 0.7509\n",
      "Epoch 54/100\n",
      "0s - loss: 0.5582 - acc: 0.7624 - val_loss: 0.5650 - val_acc: 0.7524\n",
      "Epoch 55/100\n",
      "0s - loss: 0.5563 - acc: 0.7644 - val_loss: 0.5631 - val_acc: 0.7545\n",
      "Epoch 56/100\n",
      "0s - loss: 0.5543 - acc: 0.7660 - val_loss: 0.5613 - val_acc: 0.7566\n",
      "Epoch 57/100\n",
      "0s - loss: 0.5524 - acc: 0.7678 - val_loss: 0.5594 - val_acc: 0.7586\n",
      "Epoch 58/100\n",
      "0s - loss: 0.5505 - acc: 0.7696 - val_loss: 0.5576 - val_acc: 0.7599\n",
      "Epoch 59/100\n",
      "0s - loss: 0.5487 - acc: 0.7708 - val_loss: 0.5559 - val_acc: 0.7608\n",
      "Epoch 60/100\n",
      "0s - loss: 0.5468 - acc: 0.7722 - val_loss: 0.5541 - val_acc: 0.7629\n",
      "Epoch 61/100\n",
      "0s - loss: 0.5450 - acc: 0.7737 - val_loss: 0.5524 - val_acc: 0.7636\n",
      "Epoch 62/100\n",
      "0s - loss: 0.5432 - acc: 0.7750 - val_loss: 0.5507 - val_acc: 0.7652\n",
      "Epoch 63/100\n",
      "0s - loss: 0.5415 - acc: 0.7764 - val_loss: 0.5490 - val_acc: 0.7664\n",
      "Epoch 64/100\n",
      "0s - loss: 0.5397 - acc: 0.7780 - val_loss: 0.5473 - val_acc: 0.7679\n",
      "Epoch 65/100\n",
      "0s - loss: 0.5380 - acc: 0.7788 - val_loss: 0.5456 - val_acc: 0.7691\n",
      "Epoch 66/100\n",
      "0s - loss: 0.5363 - acc: 0.7804 - val_loss: 0.5440 - val_acc: 0.7703\n",
      "Epoch 67/100\n",
      "0s - loss: 0.5346 - acc: 0.7819 - val_loss: 0.5424 - val_acc: 0.7717\n",
      "Epoch 68/100\n",
      "0s - loss: 0.5330 - acc: 0.7831 - val_loss: 0.5408 - val_acc: 0.7729\n",
      "Epoch 69/100\n",
      "0s - loss: 0.5313 - acc: 0.7841 - val_loss: 0.5393 - val_acc: 0.7738\n",
      "Epoch 70/100\n",
      "0s - loss: 0.5297 - acc: 0.7852 - val_loss: 0.5377 - val_acc: 0.7754\n",
      "Epoch 71/100\n",
      "0s - loss: 0.5281 - acc: 0.7858 - val_loss: 0.5362 - val_acc: 0.7767\n",
      "Epoch 72/100\n",
      "0s - loss: 0.5266 - acc: 0.7868 - val_loss: 0.5347 - val_acc: 0.7782\n",
      "Epoch 73/100\n",
      "0s - loss: 0.5250 - acc: 0.7880 - val_loss: 0.5332 - val_acc: 0.7795\n",
      "Epoch 74/100\n",
      "0s - loss: 0.5235 - acc: 0.7890 - val_loss: 0.5317 - val_acc: 0.7809\n",
      "Epoch 75/100\n",
      "0s - loss: 0.5220 - acc: 0.7903 - val_loss: 0.5303 - val_acc: 0.7820\n",
      "Epoch 76/100\n",
      "0s - loss: 0.5205 - acc: 0.7912 - val_loss: 0.5288 - val_acc: 0.7828\n",
      "Epoch 77/100\n",
      "0s - loss: 0.5190 - acc: 0.7924 - val_loss: 0.5274 - val_acc: 0.7839\n",
      "Epoch 78/100\n",
      "0s - loss: 0.5175 - acc: 0.7935 - val_loss: 0.5260 - val_acc: 0.7850\n",
      "Epoch 79/100\n",
      "0s - loss: 0.5161 - acc: 0.7948 - val_loss: 0.5246 - val_acc: 0.7862\n",
      "Epoch 80/100\n",
      "0s - loss: 0.5146 - acc: 0.7958 - val_loss: 0.5233 - val_acc: 0.7868\n",
      "Epoch 81/100\n",
      "0s - loss: 0.5132 - acc: 0.7968 - val_loss: 0.5219 - val_acc: 0.7876\n",
      "Epoch 82/100\n",
      "0s - loss: 0.5118 - acc: 0.7975 - val_loss: 0.5206 - val_acc: 0.7884\n",
      "Epoch 83/100\n",
      "0s - loss: 0.5104 - acc: 0.7980 - val_loss: 0.5192 - val_acc: 0.7894\n",
      "Epoch 84/100\n",
      "0s - loss: 0.5091 - acc: 0.7987 - val_loss: 0.5179 - val_acc: 0.7901\n",
      "Epoch 85/100\n",
      "0s - loss: 0.5077 - acc: 0.7995 - val_loss: 0.5167 - val_acc: 0.7909\n",
      "Epoch 86/100\n",
      "0s - loss: 0.5064 - acc: 0.8001 - val_loss: 0.5154 - val_acc: 0.7915\n",
      "Epoch 87/100\n",
      "0s - loss: 0.5051 - acc: 0.8008 - val_loss: 0.5141 - val_acc: 0.7923\n",
      "Epoch 88/100\n",
      "0s - loss: 0.5038 - acc: 0.8020 - val_loss: 0.5129 - val_acc: 0.7929\n",
      "Epoch 89/100\n",
      "0s - loss: 0.5025 - acc: 0.8022 - val_loss: 0.5116 - val_acc: 0.7938\n",
      "Epoch 90/100\n",
      "0s - loss: 0.5012 - acc: 0.8027 - val_loss: 0.5104 - val_acc: 0.7948\n",
      "Epoch 91/100\n",
      "0s - loss: 0.5000 - acc: 0.8033 - val_loss: 0.5092 - val_acc: 0.7952\n",
      "Epoch 92/100\n",
      "0s - loss: 0.4987 - acc: 0.8044 - val_loss: 0.5080 - val_acc: 0.7957\n",
      "Epoch 93/100\n",
      "0s - loss: 0.4975 - acc: 0.8055 - val_loss: 0.5068 - val_acc: 0.7962\n",
      "Epoch 94/100\n",
      "0s - loss: 0.4963 - acc: 0.8061 - val_loss: 0.5057 - val_acc: 0.7968\n",
      "Epoch 95/100\n",
      "0s - loss: 0.4951 - acc: 0.8066 - val_loss: 0.5045 - val_acc: 0.7974\n",
      "Epoch 96/100\n",
      "0s - loss: 0.4939 - acc: 0.8070 - val_loss: 0.5034 - val_acc: 0.7980\n",
      "Epoch 97/100\n",
      "0s - loss: 0.4927 - acc: 0.8076 - val_loss: 0.5023 - val_acc: 0.7986\n",
      "Epoch 98/100\n",
      "0s - loss: 0.4915 - acc: 0.8080 - val_loss: 0.5011 - val_acc: 0.7988\n",
      "Epoch 99/100\n",
      "0s - loss: 0.4904 - acc: 0.8088 - val_loss: 0.5000 - val_acc: 0.7994\n",
      "Epoch 100/100\n",
      "0s - loss: 0.4893 - acc: 0.8095 - val_loss: 0.4990 - val_acc: 0.8002\n"
     ]
    }
   ],
   "source": [
    "# Running and evaluating the model\n",
    "hist = model.fit(x_train, y_train,\n",
    "          batch_size=x_train.shape[0],\n",
    "          epochs=100,\n",
    "          validation_data=(x_test, y_test), \n",
    "          verbose=2)"
   ]
  },
  {
   "cell_type": "markdown",
   "metadata": {
    "deletable": true,
    "editable": true
   },
   "source": [
    "## 6. Evaluating the model\n",
    "This will give you the accuracy of the model. Can you get something over 85%?"
   ]
  },
  {
   "cell_type": "code",
   "execution_count": 43,
   "metadata": {
    "collapsed": false,
    "deletable": true,
    "editable": true
   },
   "outputs": [
    {
     "name": "stdout",
     "output_type": "stream",
     "text": [
      "accuracy:  0.83556\n"
     ]
    }
   ],
   "source": [
    "score = model.evaluate(x_test, y_test, verbose=0)\n",
    "print(\"accuracy: \", score[1])"
   ]
  },
  {
   "cell_type": "code",
   "execution_count": 36,
   "metadata": {
    "collapsed": false
   },
   "outputs": [
    {
     "name": "stderr",
     "output_type": "stream",
     "text": [
      "C:\\Users\\james\\Anaconda3\\lib\\site-packages\\sklearn\\linear_model\\sag.py:267: ConvergenceWarning: The max_iter was reached which means the coef_ did not converge\n",
      "  \"the coef_ did not converge\", ConvergenceWarning)\n"
     ]
    },
    {
     "data": {
      "text/plain": [
       "0.85868"
      ]
     },
     "execution_count": 36,
     "metadata": {},
     "output_type": "execute_result"
    }
   ],
   "source": [
    "from sklearn.linear_model import LogisticRegression\n",
    "clf = LogisticRegression(solver='sag')\n",
    "clf.fit(x_train,y_train)\n",
    "clf.score(x_test,y_test)"
   ]
  },
  {
   "cell_type": "code",
   "execution_count": null,
   "metadata": {
    "collapsed": true
   },
   "outputs": [],
   "source": []
  }
 ],
 "metadata": {
  "kernelspec": {
   "display_name": "Python [default]",
   "language": "python",
   "name": "python3"
  },
  "language_info": {
   "codemirror_mode": {
    "name": "ipython",
    "version": 3
   },
   "file_extension": ".py",
   "mimetype": "text/x-python",
   "name": "python",
   "nbconvert_exporter": "python",
   "pygments_lexer": "ipython3",
   "version": "3.5.2"
  }
 },
 "nbformat": 4,
 "nbformat_minor": 2
}
